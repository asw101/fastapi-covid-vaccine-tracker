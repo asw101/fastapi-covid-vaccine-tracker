{
 "cells": [
  {
   "cell_type": "code",
   "execution_count": 32,
   "id": "laden-kitchen",
   "metadata": {},
   "outputs": [],
   "source": [
    "import requests\n",
    "import json\n",
    "import numpy as np\n",
    "import matplotlib.pyplot as plt\n",
    "# if using a Jupyter notebook, include:\n",
    "%matplotlib inline"
   ]
  },
  {
   "cell_type": "code",
   "execution_count": 33,
   "id": "choice-snake",
   "metadata": {},
   "outputs": [],
   "source": [
    "r = requests.get('https://europecovidvaccine.azurewebsites.net/data')"
   ]
  },
  {
   "cell_type": "code",
   "execution_count": 34,
   "id": "fixed-findings",
   "metadata": {},
   "outputs": [],
   "source": [
    "x = dict(json.loads(r.text))"
   ]
  },
  {
   "cell_type": "code",
   "execution_count": 35,
   "id": "earned-tampa",
   "metadata": {},
   "outputs": [
    {
     "data": {
      "text/plain": [
       "{'country_data': {'Malta': {'vaccine_stats': {'AstraZeneca': 0.0,\n",
       "    'Moderna': 0.0,\n",
       "    'Pfizer/BioNTech': 0.0,\n",
       "    'J&J Janssen': 0.0},\n",
       "   'total_doses': 0},\n",
       "  'Croatia': {'vaccine_stats': {'AstraZeneca': 22.18,\n",
       "    'Pfizer/BioNTech': 63.66,\n",
       "    'J&J Janssen': 2.1,\n",
       "    'Moderna': 12.06,\n",
       "    'Unknown': 0.0},\n",
       "   'total_doses': 3194210},\n",
       "  'Luxembourg': {'vaccine_stats': {'Moderna': 8.87,\n",
       "    'J&J Janssen': 5.25,\n",
       "    'Pfizer/BioNTech': 67.71,\n",
       "    'AstraZeneca': 18.17},\n",
       "   'total_doses': 568060},\n",
       "  'Greece': {'vaccine_stats': {'J&J Janssen': 3.4,\n",
       "    'AstraZeneca': 18.26,\n",
       "    'Pfizer/BioNTech': 69.66,\n",
       "    'Moderna': 8.68},\n",
       "   'total_doses': 113166150},\n",
       "  'Hungary': {'vaccine_stats': {'AstraZeneca': 10.84,\n",
       "    'Sputnik V': 12.71,\n",
       "    'Moderna': 5.7,\n",
       "    'BECNBG': 32.96,\n",
       "    'Pfizer/BioNTech': 35.58,\n",
       "    'J&J Janssen': 2.22},\n",
       "   'total_doses': 15738176},\n",
       "  'Latvia': {'vaccine_stats': {'Pfizer/BioNTech': 57.31,\n",
       "    'Moderna': 16.55,\n",
       "    'J&J Janssen': 4.89,\n",
       "    'AstraZeneca': 21.24},\n",
       "   'total_doses': 1565790},\n",
       "  'Slovakia': {'vaccine_stats': {'Pfizer/BioNTech': 59.68,\n",
       "    'Moderna': 9.74,\n",
       "    'Sputnik V': 5.04,\n",
       "    'Unknown': 0.0,\n",
       "    'AstraZeneca': 22.95,\n",
       "    'J&J Janssen': 2.58},\n",
       "   'total_doses': 3965970},\n",
       "  'Sweden': {'vaccine_stats': {'Moderna': 9.71,\n",
       "    'Unknown': 0.0,\n",
       "    'Pfizer/BioNTech': 72.55,\n",
       "    'AstraZeneca': 17.74},\n",
       "   'total_doses': 9095505},\n",
       "  'Bulgaria': {'vaccine_stats': {'Moderna': 10.05,\n",
       "    'J&J Janssen': 3.39,\n",
       "    'Unknown': 0.0,\n",
       "    'Pfizer/BioNTech': 61.46,\n",
       "    'AstraZeneca': 25.1},\n",
       "   'total_doses': 4858135},\n",
       "  'Netherlands': {'vaccine_stats': {'Moderna': 9.34,\n",
       "    'J&J Janssen': 5.28,\n",
       "    'AstraZeneca': 17.88,\n",
       "    'Unknown': 0.0,\n",
       "    'Pfizer/BioNTech': 67.5},\n",
       "   'total_doses': 17096110},\n",
       "  'Slovenia': {'vaccine_stats': {'J&J Janssen': 3.96,\n",
       "    'Moderna': 9.43,\n",
       "    'Pfizer/BioNTech': 54.23,\n",
       "    'AstraZeneca': 32.38},\n",
       "   'total_doses': 2060550},\n",
       "  'Italy': {'vaccine_stats': {'J&J Janssen': 3.64,\n",
       "    'Pfizer/BioNTech': 66.61,\n",
       "    'Moderna': 9.99,\n",
       "    'AstraZeneca': 19.76},\n",
       "   'total_doses': 56193727},\n",
       "  'Romania': {'vaccine_stats': {'J&J Janssen': 4.14,\n",
       "    'Pfizer/BioNTech': 68.02,\n",
       "    'Moderna': 8.18,\n",
       "    'AstraZeneca': 19.66},\n",
       "   'total_doses': 15100650},\n",
       "  'Norway': {'vaccine_stats': {'Moderna': 7.72,\n",
       "    'AstraZeneca': 7.1,\n",
       "    'Unknown': 24.7,\n",
       "    'J&J Janssen': 5.74,\n",
       "    'Pfizer/BioNTech': 54.74},\n",
       "   'total_doses': 4865080},\n",
       "  'Ireland': {'vaccine_stats': {'Moderna': 9.69,\n",
       "    'Unknown': 0.0,\n",
       "    'AstraZeneca': 18.72,\n",
       "    'J&J Janssen': 3.8,\n",
       "    'Pfizer/BioNTech': 67.79},\n",
       "   'total_doses': 4680640},\n",
       "  'Iceland': {'vaccine_stats': {'Unknown': 0.0,\n",
       "    'Moderna': 4.69,\n",
       "    'AstraZeneca': 23.66,\n",
       "    'J&J Janssen': 12.52,\n",
       "    'Pfizer/BioNTech': 59.13},\n",
       "   'total_doses': 5373800},\n",
       "  'Czechia': {'vaccine_stats': {'Pfizer/BioNTech': 80.19,\n",
       "    'J&J Janssen': 1.71,\n",
       "    'AstraZeneca': 9.17,\n",
       "    'Moderna': 8.94},\n",
       "   'total_doses': 8784820},\n",
       "  'Leichtenstein': {'vaccine_stats': {'Moderna': 65.99,\n",
       "    'Pfizer/BioNTech': 34.01},\n",
       "   'total_doses': 34400},\n",
       "  'Finland': {'vaccine_stats': {'Pfizer/BioNTech': 74.88,\n",
       "    'AstraZeneca': 13.16,\n",
       "    'J&J Janssen': 1.43,\n",
       "    'Moderna': 10.53,\n",
       "    'Unknown': 0.0},\n",
       "   'total_doses': 4796115},\n",
       "  'Denmark': {'vaccine_stats': {'Unknown': 0.0,\n",
       "    'Pfizer/BioNTech': 86.73,\n",
       "    'AstraZeneca': 3.94,\n",
       "    'J&J Janssen': 0.82,\n",
       "    'Moderna': 8.5},\n",
       "   'total_doses': 5144230},\n",
       "  'Lithuania': {'vaccine_stats': {'J&J Janssen': 1.97,\n",
       "    'Moderna': 9.2,\n",
       "    'Pfizer/BioNTech': 68.76,\n",
       "    'AstraZeneca': 20.07},\n",
       "   'total_doses': 6300080},\n",
       "  'Spain': {'vaccine_stats': {'AstraZeneca': 19.09,\n",
       "    'J&J Janssen': 3.88,\n",
       "    'Pfizer/BioNTech': 67.82,\n",
       "    'Moderna': 9.21},\n",
       "   'total_doses': 43308455},\n",
       "  'Poland': {'vaccine_stats': {'J&J Janssen': 3.69,\n",
       "    'AstraZeneca': 17.74,\n",
       "    'Moderna': 8.6,\n",
       "    'Pfizer/BioNTech': 69.97},\n",
       "   'total_doses': 37148420},\n",
       "  'Cypress': {'vaccine_stats': {'AstraZeneca': 29.64,\n",
       "    'J&J Janssen': 3.33,\n",
       "    'Pfizer/BioNTech': 58.7,\n",
       "    'Moderna': 8.32},\n",
       "   'total_doses': 980625},\n",
       "  'Germany': {'vaccine_stats': {'Moderna': 9.32,\n",
       "    'J&J Janssen': 3.53,\n",
       "    'AstraZeneca': 16.91,\n",
       "    'Pfizer/BioNTech': 70.25},\n",
       "   'total_doses': 82024302},\n",
       "  'France': {'vaccine_stats': {'J&J Janssen': 3.96,\n",
       "    'Moderna': 9.41,\n",
       "    'AstraZeneca': 15.65,\n",
       "    'Pfizer/BioNTech': 70.98,\n",
       "    'Unknown': 0.0},\n",
       "   'total_doses': 60068100},\n",
       "  'Portugal': {'vaccine_stats': {'Pfizer/BioNTech': 67.26,\n",
       "    'J&J Janssen': 3.93,\n",
       "    'AstraZeneca': 18.88,\n",
       "    'Moderna': 9.93},\n",
       "   'total_doses': 9519240},\n",
       "  'Belgium': {'vaccine_stats': {'J&J Janssen': 3.86,\n",
       "    'AstraZeneca': 19.09,\n",
       "    'Pfizer/BioNTech': 67.01,\n",
       "    'Moderna': 10.04},\n",
       "   'total_doses': 10570175},\n",
       "  'Estonia': {'vaccine_stats': {'AstraZeneca': 30.68,\n",
       "    'Moderna': 10.06,\n",
       "    'J&J Janssen': 2.62,\n",
       "    'Pfizer/BioNTech': 56.63},\n",
       "   'total_doses': 1204510},\n",
       "  'Austria': {'vaccine_stats': {'AstraZeneca': 24.71,\n",
       "    'Pfizer/BioNTech': 63.22,\n",
       "    'J&J Janssen': 2.31,\n",
       "    'Moderna': 9.76},\n",
       "   'total_doses': 75258765}}}"
      ]
     },
     "execution_count": 35,
     "metadata": {},
     "output_type": "execute_result"
    }
   ],
   "source": [
    "x"
   ]
  },
  {
   "cell_type": "code",
   "execution_count": 49,
   "id": "sapphire-status",
   "metadata": {},
   "outputs": [],
   "source": [
    "country_name = 'Norway'\n",
    "country_information = x['country_data'][country_name]"
   ]
  },
  {
   "cell_type": "code",
   "execution_count": 50,
   "id": "aboriginal-trailer",
   "metadata": {},
   "outputs": [
    {
     "data": {
      "text/plain": [
       "{'vaccine_stats': {'Moderna': 7.72,\n",
       "  'AstraZeneca': 7.1,\n",
       "  'Unknown': 24.7,\n",
       "  'J&J Janssen': 5.74,\n",
       "  'Pfizer/BioNTech': 54.74},\n",
       " 'total_doses': 4865080}"
      ]
     },
     "execution_count": 50,
     "metadata": {},
     "output_type": "execute_result"
    }
   ],
   "source": [
    "country_information"
   ]
  },
  {
   "cell_type": "code",
   "execution_count": 51,
   "id": "popular-bookmark",
   "metadata": {},
   "outputs": [],
   "source": [
    "vaccine_stats = country_information['vaccine_stats']"
   ]
  },
  {
   "cell_type": "code",
   "execution_count": 52,
   "id": "emerging-message",
   "metadata": {},
   "outputs": [
    {
     "data": {
      "text/plain": [
       "dict_values([7.72, 7.1, 24.7, 5.74, 54.74])"
      ]
     },
     "execution_count": 52,
     "metadata": {},
     "output_type": "execute_result"
    }
   ],
   "source": [
    "vaccine_stats.values()"
   ]
  },
  {
   "cell_type": "code",
   "execution_count": 53,
   "id": "color-nightmare",
   "metadata": {},
   "outputs": [
    {
     "data": {
      "image/png": "[encoded data removed]",
      "text/plain": [
       "<Figure size 432x288 with 1 Axes>"
      ]
     },
     "metadata": {},
     "output_type": "display_data"
    }
   ],
   "source": [
    "# Pie chart, where the slices will be ordered and plotted counter-clockwise:\n",
    "labels = vaccine_stats.keys()\n",
    "sizes = vaccine_stats.values()\n",
    "\n",
    "\n",
    "fig, ax = plt.subplots()\n",
    "ax.pie(sizes, labels=labels, autopct='%1.1f%%')\n",
    "ax.axis('equal')  # Equal aspect ratio ensures the pie chart is circular.\n",
    "ax.set_title(country_name)\n",
    "\n",
    "\n",
    "plt.show()"
   ]
  },
  {
   "cell_type": "code",
   "execution_count": null,
   "id": "responsible-shore",
   "metadata": {},
   "outputs": [],
   "source": []
  }
 ],
 "metadata": {
  "kernelspec": {
   "display_name": "Python 3",
   "language": "python",
   "name": "python3"
  },
  "language_info": {
   "codemirror_mode": {
    "name": "ipython",
    "version": 3
   },
   "file_extension": ".py",
   "mimetype": "text/x-python",
   "name": "python",
   "nbconvert_exporter": "python",
   "pygments_lexer": "ipython3",
   "version": "3.6.13"
  }
 },
 "nbformat": 4,
 "nbformat_minor": 5
}
